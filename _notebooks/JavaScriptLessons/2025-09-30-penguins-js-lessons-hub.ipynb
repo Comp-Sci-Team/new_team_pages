{
 "cells": [
  {
   "cell_type": "markdown",
   "id": "8fc36a2d",
   "metadata": {},
   "source": [
    "---\n",
    "layout: opencs\n",
    "data: js-lessons\n",
    "title: (JS)JavaScript Lessons Hub - Math Expressions & Data Abstraction\n",
    "permalink: /js-lessons\n",
    "---"
   ]
  },
  {
   "cell_type": "markdown",
   "id": "cc559d4c",
   "metadata": {},
   "source": [
    "## JavaScript Lessons Hub\n",
    "\n",
    "\n",
    "### Lesson 1:\n",
    "<details>\n",
    "<summary>Mathematical Expressions</summary>\n",
    "<a href=\"{{site.baseurl}}/js-lessons/math-expressions\">Lesson</a> <br>\n",
    "<a href=\"{{site.baseurl}}/js-lessons/homework/math-expressions\">Homework</a> <br>\n",
    "<a href=\"https://drive.google.com/uc?export=download&id=1YU6jmyKud005lcsUkawXHZZVPdU7kikW\" download><b>Download Homework</b></a> <br/>\n",
    "</details>\n",
    "\n",
    "<br>\n",
    "<br>\n",
    "\n",
    "### Lesson 2:\n",
    "<details>\n",
    "<summary>Data Abstraction</summary>\n",
    "<a href=\"url\">Lesson</a> <br>\n",
    "<a href=\"url\">Homework</a>\n",
    "</details>"
   ]
  }
 ],
 "metadata": {
  "language_info": {
   "name": "python"
  }
 },
 "nbformat": 4,
 "nbformat_minor": 5
}
