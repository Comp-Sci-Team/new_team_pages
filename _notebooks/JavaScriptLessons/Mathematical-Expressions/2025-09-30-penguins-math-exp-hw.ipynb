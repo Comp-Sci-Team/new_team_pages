{
 "cells": [
  {
   "cell_type": "markdown",
   "id": "96d9c6da",
   "metadata": {},
   "source": [
    "---\n",
    "layout: opencs\n",
    "title: Mathematical Expressions Homework\n",
    "permalink: /js-lessons/homework/math-expressions\n",
    "---"
   ]
  },
  {
   "cell_type": "markdown",
   "id": "9dd3192a",
   "metadata": {
    "vscode": {
     "languageId": "plaintext"
    }
   },
   "source": [
    "# JS Lessons\n",
    "\n",
    "<a href=\"{{site.baseurl}}/_notebooks/JavaScriptLessons/Mathematical-Expressions/2025-09-30-penguins-math-exp-hw.ipynb\" download><b>Download Homework</b></a>\n",
    "\n",
    "## **Mathematical Expressions Homework**\n",
    "In order to learn this subject of programming well, you have to practice:\n",
    "\n",
    "> Task: Build a system of functions that represent different mathematical expressions. Each of these functions will perform a different mathematical operation(ex: add, subtract). Make at least 5 of these different functions. \n"
   ]
  },
  {
   "cell_type": "markdown",
   "id": "221d4674",
   "metadata": {},
   "source": [
    "### Example function:\n",
    "\n",
    "```\n",
    "function add(a, b)\n",
    "{\n",
    "\treturn a + b;\n",
    "}\n",
    "```\n",
    "\n",
    "### Some ideas you can use:\n",
    "- Multiply Function\n",
    "- Square root function\n",
    "- Cube root function\n",
    "\n",
    "---\n"
   ]
  },
  {
   "cell_type": "markdown",
   "id": "03f3fc78",
   "metadata": {
    "vscode": {
     "languageId": "html"
    }
   },
   "source": [
    "Now that you have seen the example, you will start writing your custom functions in the html code block below: <br>\n",
    "<u> Make sure to follow each comment on where to write your code, don't modify any existing code. </u>\n",
    "\n",
    "<br><br>"
   ]
  },
  {
   "cell_type": "code",
   "execution_count": null,
   "id": "a1af04c7",
   "metadata": {
    "vscode": {
     "languageId": "html"
    }
   },
   "outputs": [],
   "source": [
    "%%html\n",
    "\n",
    "<!-- This is where the outputs of your functions will go: -->\n",
    "<h2>Function outputs:</h2>\n",
    "\n",
    "\n",
    "<!-- Modify each of the button onclick fields to call your functions: -->\n",
    "<!-- Make sure when the function is called you input your parameters. -->\n",
    "<!-- (Optional) You can also change the text each button displays if you want. -->\n",
    "<button type=\"button\" onclick=\"Add(3, 5)\">Function Output 1</button>\n",
    "<div id=\"functionOutput1\"></div>\n",
    "\n",
    "<button type=\"button\" onclick=\"ADD YOUR FUNCTION HERE\">Function Output 2</button>\n",
    "<div id=\"functionOutput2\"></div>\n",
    "\n",
    "<button type=\"button\" onclick=\"ADD YOUR FUNCTION HERE\">Function Output 3</button>\n",
    "<div id=\"functionOutput3\"></div>\n",
    "\n",
    "<button type=\"button\" onclick=\"ADD YOUR FUNCTION HERE\">Function Output 4</button>\n",
    "<div id=\"functionOutput4\"></div>\n",
    "\n",
    "<button type=\"button\" onclick=\"ADD YOUR FUNCTION HERE\">Function Output 5</button>\n",
    "<div id=\"functionOutput5\"></div>\n",
    "\n",
    "\n",
    "<!-- You will write the code for your functions in this script area  -->\n",
    "<script>\n",
    "\t//Example function (you can use this if you want):\n",
    "\tfunction Add(a,b)\n",
    "\t{\n",
    "\t\tlet result = a + b;\n",
    "\t\t\n",
    "\t\t// This line is important. It is what changes the output text section to the result of the function\n",
    "\t\tdocument.getElementById(\"functionOutput1\").innerText = result;\n",
    "\t}\n",
    "\n",
    "\n",
    "\t// Add all of your own functions here:\n",
    "\t// You can make them do any mathematical expression, just make sure they change the text of one of the output sections\n",
    "</script>"
   ]
  }
 ],
 "metadata": {
  "language_info": {
   "name": "python"
  }
 },
 "nbformat": 4,
 "nbformat_minor": 5
}
