{
 "cells": [
  {
   "cell_type": "markdown",
   "id": "96d9c6da",
   "metadata": {},
   "source": [
    "---\n",
    "layout: opencs\n",
    "title: Mathematical Expressions Homework\n",
    "permalink: /js-lessons/homework/math-expressions\n",
    "---"
   ]
  },
  {
   "cell_type": "markdown",
   "id": "9dd3192a",
   "metadata": {
    "vscode": {
     "languageId": "plaintext"
    }
   },
   "source": []
  }
 ],
 "metadata": {
  "language_info": {
   "name": "python"
  }
 },
 "nbformat": 4,
 "nbformat_minor": 5
}
